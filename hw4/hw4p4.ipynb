{
 "cells": [
  {
   "cell_type": "markdown",
   "metadata": {},
   "source": [
    "## Homework 4, Problem 4 Classification on real data\n",
    "\n",
    "ECE C143A/C243A, Spring Quarter 2018, Prof. J.C. Kao, TAs T. Monsoor, X. Jiang and X. Yang"
   ]
  },
  {
   "cell_type": "markdown",
   "metadata": {},
   "source": [
    "## Background\n",
    "Neural prosthetic systems can be built based on classifying neural activity related to planning. As described in class, this is analogous to mapping patterns of neural activity to keys on a keyboard.\n",
    "In this problem, we will apply the results of Problems 1 and 2 to real neural data. The neural data were recorded using a 100-electrode array in premotor cortex of a macaque monkey1. The dataset can be found on CCLE as `ps4_realdata.mat`.\n",
    "\n",
    "The following describes the data format. The `.mat` file is loaded into Python as a dictionary with two keys: `train_trial` contains the training data and `test_trial` contains the test data. Each of these contains spike trains recorded simultaneously from 97 neurons while the monkey reached 91 times along each of 8 different reaching angles.\n",
    "\n",
    "The spike train recorded from the $i_{th}$ neuron on the $n_{th}$ trial of the $k_{th}$ reaching angle is accessed as \n",
    "\n",
    "`data['train_trial'][n,k][1][i,:]`\n",
    "\n",
    "where n = 0,...,90, k = 0,...,7, and i = 0, . . . , 96.  The [1] in between [n,k] and [i,:] does not mean anything for this assignment and is simply an \"artifact\" of how the data is structured. A spike train is represented as a sequence of zeros and ones, where time is discretized in 1 ms steps. A zero indicates that the neuron did not spike in the 1 ms bin, whereas a one indicates that the neuron spiked once in the 1 ms bin. The structure test trial has the same format as train trial.\n",
    "\n",
    "Each spike train is 700 ms long (and thus represented by an array of length 700).  This comprises a 200ms baseline period (before the reach target turned on), a 500ms planning period (after the reach target turned on).  Because it takes time for information about the reach target to arrive in premotor cortex (due to the time required for action potentials to propagate and for visual processing), we will ignore the first 150ms of the planning period.  *** FOR THIS PROBLEM, we will take spike counts for each neuron within a single 200ms bin starting 150ms after the reach target turns on. ***\n",
    "\n",
    "In other words, to calculate firing rates, you will calculate it over the 200ms window: \n",
    "\n",
    "`data['train_trial'][n,k][1][i,350:550]`"
   ]
  },
  {
   "cell_type": "code",
   "execution_count": 1,
   "metadata": {
    "collapsed": true
   },
   "outputs": [],
   "source": [
    "import numpy as np\n",
    "import numpy.matlib as npm\n",
    "import matplotlib.pyplot as plt\n",
    "import scipy.special\n",
    "import scipy.io as sio\n",
    "import math\n",
    "\n",
    "data = sio.loadmat('ps4_realdata.mat') # load the .mat file.\n",
    "NumTrainData = data['train_trial'].shape[0]\n",
    "NumClass = data['train_trial'].shape[1]\n",
    "NumTestData = data['test_trial'].shape[0]\n",
    "\n",
    "# Reloading any code written in external .py files.\n",
    "%load_ext autoreload\n",
    "%autoreload 2"
   ]
  },
  {
   "cell_type": "markdown",
   "metadata": {},
   "source": [
    "### (a) (8 points) \n",
    "Fit the ML parameters of model i) to the training data (91 × 8 observations of a length 97 array of neuron firing rates). \n",
    "\n",
    "To calculate the firing rates, use a single 200ms bin starting from 150ms after the target turns on.  This corresponds to using `data['train_trial'][n,k][1][i, 350:550]` to calculate all firing rates.  This corresponds to a 200ms window that turns on 150ms after the reach turns on.\n",
    "\n",
    "Then, use these parameters to classify the test data (91 × 8 data points) according to the decision rule (1). What is the percent of test data points correctly classified?"
   ]
  },
  {
   "cell_type": "code",
   "execution_count": 40,
   "metadata": {},
   "outputs": [
    {
     "name": "stdout",
     "output_type": "stream",
     "text": [
      "0.9601648351648352\n"
     ]
    }
   ],
   "source": [
    "##4a\n",
    "\n",
    "# Calculate the firing rates.\n",
    "\n",
    "trainDataArr =  np.zeros((NumClass,NumTrainData,97)) # contains the firing rates for all neurons on all 8 x 91 trials in the training set\n",
    "testDataArr =  np.zeros((NumClass,NumTestData,97)) # for the testing set.\n",
    "\n",
    "for classIX in range(NumClass):\n",
    "    for trainDataIX in range(NumTrainData):   \n",
    "        trainDataArr[classIX,trainDataIX,:] = np.sum(data['train_trial'][trainDataIX,classIX][1][:,350:550],1)\n",
    "    for testDataIX in range(NumTestData):        \n",
    "        testDataArr[classIX,testDataIX,:]=np.sum(data['test_trial'][testDataIX,classIX][1][:,350:550],1)\n",
    "#====================================================#\n",
    "# YOUR CODE HERE:\n",
    "#   Fit the ML parameters of model i) to training data\n",
    "#====================================================#\n",
    "\n",
    "\n",
    "\n",
    "modParam1 = dict()\n",
    "modParam1['pi'] = np.array([1.0/NumClass] * NumClass)\n",
    "\n",
    "modParam1['mean'] = np.zeros((NumClass, 97))\n",
    "for classIX in range(NumClass):\n",
    "    modParam1['mean'][classIX] = np.mean(trainDataArr[classIX], axis=0)\n",
    "    \n",
    "S_tot = np.zeros((97,97))\n",
    "for classIX in range(NumClass):\n",
    "    for dataIX in range(NumTrainData):\n",
    "        miu = modParam1['mean'][classIX].reshape(-1,1)\n",
    "        X = trainDataArr[classIX, dataIX].reshape(-1,1)\n",
    "        \n",
    "        S_tot += np.dot(X - miu, np.transpose(X - miu))\n",
    "\n",
    "modParam1['cov'] = S_tot/(NumClass * NumTrainData)\n",
    "\n",
    "\n",
    "#====================================================#\n",
    "# END YOUR CODE\n",
    "#====================================================# \n",
    "\n",
    "#====================================================#\n",
    "# YOUR CODE HERE:\n",
    "#   Classify the test data and print the accuracy\n",
    "#====================================================#\n",
    "\n",
    "def mod1_predict(X):\n",
    "    pred_probs = np.zeros(NumClass)\n",
    "    for classIX in range(NumClass):\n",
    "        pi = modParam1['pi'][classIX]\n",
    "        mean = modParam1['mean'][classIX, :].reshape(-1,1)\n",
    "        cov=modParam1['cov']\n",
    "\n",
    "        \n",
    "        pred_prob = np.log(pi)\\\n",
    "                    + np.dot(np.dot(np.transpose(mean), np.linalg.inv(cov)), X)\\\n",
    "                    - 1/2 * np.dot(np.dot(np.transpose(mean), np.linalg.inv(cov)), \n",
    "                                   mean)\n",
    "        pred_probs[classIX] = pred_prob[0,0]\n",
    "    return np.argmax(pred_probs)\n",
    "    \n",
    "correct_pred_cnt = 0\n",
    "for classIX in range(NumClass):\n",
    "    for dataIX in range(NumTestData):\n",
    "        X = testDataArr[classIX, dataIX].reshape(-1,1)\n",
    "        pred_class = mod1_predict(X)\n",
    "        \n",
    "        if pred_class == classIX:\n",
    "            correct_pred_cnt += 1\n",
    "print(correct_pred_cnt/(NumClass*NumTestData))\n",
    "        \n",
    "\n",
    "        \n",
    "#====================================================#\n",
    "# END YOUR CODE\n",
    "#====================================================# \n"
   ]
  },
  {
   "cell_type": "markdown",
   "metadata": {},
   "source": [
    "#### Question:\n",
    "What is the percent of test data points correctly classified?"
   ]
  },
  {
   "cell_type": "markdown",
   "metadata": {},
   "source": [
    "#### Your answer: \n",
    "0.9601648351648352"
   ]
  },
  {
   "cell_type": "markdown",
   "metadata": {},
   "source": [
    "### (b) (6 points) \n",
    "Repeat part (a) for model ii). You `should encounter a Python error` when classifying the test data. What is this error? Why did the Python error occur? What would we need to do to correct this error?\n",
    "\n",
    "To be concrete, the output of this cell should be a `Python error` and that's all fine.  But we want you to understand what the error is so we can fix it later.\n"
   ]
  },
  {
   "cell_type": "code",
   "execution_count": 49,
   "metadata": {},
   "outputs": [
    {
     "name": "stderr",
     "output_type": "stream",
     "text": [
      "/Users/zxxia/anaconda3/lib/python3.6/site-packages/ipykernel_launcher.py:34: RuntimeWarning: divide by zero encountered in log\n"
     ]
    },
    {
     "ename": "LinAlgError",
     "evalue": "Singular matrix",
     "output_type": "error",
     "traceback": [
      "\u001b[0;31m---------------------------------------------------------------------------\u001b[0m",
      "\u001b[0;31mLinAlgError\u001b[0m                               Traceback (most recent call last)",
      "\u001b[0;32m<ipython-input-49-d7ed798b656b>\u001b[0m in \u001b[0;36m<module>\u001b[0;34m()\u001b[0m\n\u001b[1;32m     40\u001b[0m     \u001b[0;32mfor\u001b[0m \u001b[0mdataIX\u001b[0m \u001b[0;32min\u001b[0m \u001b[0mrange\u001b[0m\u001b[0;34m(\u001b[0m\u001b[0mNumTestData\u001b[0m\u001b[0;34m)\u001b[0m\u001b[0;34m:\u001b[0m\u001b[0;34m\u001b[0m\u001b[0m\n\u001b[1;32m     41\u001b[0m         \u001b[0mX\u001b[0m \u001b[0;34m=\u001b[0m \u001b[0mtestDataArr\u001b[0m\u001b[0;34m[\u001b[0m\u001b[0mclassIX\u001b[0m\u001b[0;34m,\u001b[0m \u001b[0mdataIX\u001b[0m\u001b[0;34m]\u001b[0m\u001b[0;34m.\u001b[0m\u001b[0mreshape\u001b[0m\u001b[0;34m(\u001b[0m\u001b[0;34m-\u001b[0m\u001b[0;36m1\u001b[0m\u001b[0;34m,\u001b[0m\u001b[0;36m1\u001b[0m\u001b[0;34m)\u001b[0m\u001b[0;34m\u001b[0m\u001b[0m\n\u001b[0;32m---> 42\u001b[0;31m         \u001b[0mpred_class\u001b[0m \u001b[0;34m=\u001b[0m \u001b[0mmod2_predict\u001b[0m\u001b[0;34m(\u001b[0m\u001b[0mX\u001b[0m\u001b[0;34m)\u001b[0m\u001b[0;34m\u001b[0m\u001b[0m\n\u001b[0m\u001b[1;32m     43\u001b[0m \u001b[0;34m\u001b[0m\u001b[0m\n\u001b[1;32m     44\u001b[0m         \u001b[0;32mif\u001b[0m \u001b[0mpred_class\u001b[0m \u001b[0;34m==\u001b[0m \u001b[0mclassIX\u001b[0m\u001b[0;34m:\u001b[0m\u001b[0;34m\u001b[0m\u001b[0m\n",
      "\u001b[0;32m<ipython-input-49-d7ed798b656b>\u001b[0m in \u001b[0;36mmod2_predict\u001b[0;34m(X)\u001b[0m\n\u001b[1;32m     32\u001b[0m         \u001b[0mmean\u001b[0m \u001b[0;34m=\u001b[0m \u001b[0mmodParam2\u001b[0m\u001b[0;34m[\u001b[0m\u001b[0;34m'mean'\u001b[0m\u001b[0;34m]\u001b[0m\u001b[0;34m[\u001b[0m\u001b[0mclassIX\u001b[0m\u001b[0;34m,\u001b[0m \u001b[0;34m:\u001b[0m\u001b[0;34m]\u001b[0m\u001b[0;34m.\u001b[0m\u001b[0mreshape\u001b[0m\u001b[0;34m(\u001b[0m\u001b[0;34m-\u001b[0m\u001b[0;36m1\u001b[0m\u001b[0;34m,\u001b[0m\u001b[0;36m1\u001b[0m\u001b[0;34m)\u001b[0m\u001b[0;34m\u001b[0m\u001b[0m\n\u001b[1;32m     33\u001b[0m         \u001b[0mcov\u001b[0m\u001b[0;34m=\u001b[0m\u001b[0mmodParam2\u001b[0m\u001b[0;34m[\u001b[0m\u001b[0;34m'cov'\u001b[0m\u001b[0;34m]\u001b[0m\u001b[0;34m[\u001b[0m\u001b[0mclassIX\u001b[0m\u001b[0;34m]\u001b[0m\u001b[0;34m\u001b[0m\u001b[0m\n\u001b[0;32m---> 34\u001b[0;31m         \u001b[0mpred_prob\u001b[0m \u001b[0;34m=\u001b[0m \u001b[0mnp\u001b[0m\u001b[0;34m.\u001b[0m\u001b[0mlog\u001b[0m\u001b[0;34m(\u001b[0m\u001b[0mpi\u001b[0m\u001b[0;34m)\u001b[0m \u001b[0;34m-\u001b[0m \u001b[0;36m1\u001b[0m\u001b[0;34m/\u001b[0m\u001b[0;36m2\u001b[0m \u001b[0;34m*\u001b[0m \u001b[0mnp\u001b[0m\u001b[0;34m.\u001b[0m\u001b[0mlog\u001b[0m\u001b[0;34m(\u001b[0m\u001b[0mnp\u001b[0m\u001b[0;34m.\u001b[0m\u001b[0mlinalg\u001b[0m\u001b[0;34m.\u001b[0m\u001b[0mdet\u001b[0m\u001b[0;34m(\u001b[0m\u001b[0mcov\u001b[0m\u001b[0;34m)\u001b[0m\u001b[0;34m)\u001b[0m                    \u001b[0;34m-\u001b[0m \u001b[0;36m1\u001b[0m\u001b[0;34m/\u001b[0m\u001b[0;36m2\u001b[0m \u001b[0;34m*\u001b[0m \u001b[0mnp\u001b[0m\u001b[0;34m.\u001b[0m\u001b[0mmatmul\u001b[0m\u001b[0;34m(\u001b[0m\u001b[0mnp\u001b[0m\u001b[0;34m.\u001b[0m\u001b[0mmatmul\u001b[0m\u001b[0;34m(\u001b[0m\u001b[0mnp\u001b[0m\u001b[0;34m.\u001b[0m\u001b[0mtranspose\u001b[0m\u001b[0;34m(\u001b[0m\u001b[0mX\u001b[0m\u001b[0;34m-\u001b[0m\u001b[0mmean\u001b[0m\u001b[0;34m)\u001b[0m\u001b[0;34m,\u001b[0m \u001b[0mnp\u001b[0m\u001b[0;34m.\u001b[0m\u001b[0mlinalg\u001b[0m\u001b[0;34m.\u001b[0m\u001b[0minv\u001b[0m\u001b[0;34m(\u001b[0m\u001b[0mcov\u001b[0m\u001b[0;34m)\u001b[0m\u001b[0;34m)\u001b[0m\u001b[0;34m,\u001b[0m \u001b[0mX\u001b[0m\u001b[0;34m-\u001b[0m\u001b[0mmean\u001b[0m\u001b[0;34m)\u001b[0m\u001b[0;34m\u001b[0m\u001b[0m\n\u001b[0m\u001b[1;32m     35\u001b[0m         \u001b[0mpred_probs\u001b[0m\u001b[0;34m[\u001b[0m\u001b[0mclassIX\u001b[0m\u001b[0;34m]\u001b[0m \u001b[0;34m=\u001b[0m \u001b[0mpred_prob\u001b[0m\u001b[0;34m[\u001b[0m\u001b[0;36m0\u001b[0m\u001b[0;34m,\u001b[0m\u001b[0;36m0\u001b[0m\u001b[0;34m]\u001b[0m\u001b[0;34m\u001b[0m\u001b[0m\n\u001b[1;32m     36\u001b[0m     \u001b[0;32mreturn\u001b[0m \u001b[0mnp\u001b[0m\u001b[0;34m.\u001b[0m\u001b[0margmax\u001b[0m\u001b[0;34m(\u001b[0m\u001b[0mpred_probs\u001b[0m\u001b[0;34m)\u001b[0m\u001b[0;34m\u001b[0m\u001b[0m\n",
      "\u001b[0;32m~/anaconda3/lib/python3.6/site-packages/numpy/linalg/linalg.py\u001b[0m in \u001b[0;36minv\u001b[0;34m(a)\u001b[0m\n\u001b[1;32m    511\u001b[0m     \u001b[0msignature\u001b[0m \u001b[0;34m=\u001b[0m \u001b[0;34m'D->D'\u001b[0m \u001b[0;32mif\u001b[0m \u001b[0misComplexType\u001b[0m\u001b[0;34m(\u001b[0m\u001b[0mt\u001b[0m\u001b[0;34m)\u001b[0m \u001b[0;32melse\u001b[0m \u001b[0;34m'd->d'\u001b[0m\u001b[0;34m\u001b[0m\u001b[0m\n\u001b[1;32m    512\u001b[0m     \u001b[0mextobj\u001b[0m \u001b[0;34m=\u001b[0m \u001b[0mget_linalg_error_extobj\u001b[0m\u001b[0;34m(\u001b[0m\u001b[0m_raise_linalgerror_singular\u001b[0m\u001b[0;34m)\u001b[0m\u001b[0;34m\u001b[0m\u001b[0m\n\u001b[0;32m--> 513\u001b[0;31m     \u001b[0mainv\u001b[0m \u001b[0;34m=\u001b[0m \u001b[0m_umath_linalg\u001b[0m\u001b[0;34m.\u001b[0m\u001b[0minv\u001b[0m\u001b[0;34m(\u001b[0m\u001b[0ma\u001b[0m\u001b[0;34m,\u001b[0m \u001b[0msignature\u001b[0m\u001b[0;34m=\u001b[0m\u001b[0msignature\u001b[0m\u001b[0;34m,\u001b[0m \u001b[0mextobj\u001b[0m\u001b[0;34m=\u001b[0m\u001b[0mextobj\u001b[0m\u001b[0;34m)\u001b[0m\u001b[0;34m\u001b[0m\u001b[0m\n\u001b[0m\u001b[1;32m    514\u001b[0m     \u001b[0;32mreturn\u001b[0m \u001b[0mwrap\u001b[0m\u001b[0;34m(\u001b[0m\u001b[0mainv\u001b[0m\u001b[0;34m.\u001b[0m\u001b[0mastype\u001b[0m\u001b[0;34m(\u001b[0m\u001b[0mresult_t\u001b[0m\u001b[0;34m,\u001b[0m \u001b[0mcopy\u001b[0m\u001b[0;34m=\u001b[0m\u001b[0;32mFalse\u001b[0m\u001b[0;34m)\u001b[0m\u001b[0;34m)\u001b[0m\u001b[0;34m\u001b[0m\u001b[0m\n\u001b[1;32m    515\u001b[0m \u001b[0;34m\u001b[0m\u001b[0m\n",
      "\u001b[0;32m~/anaconda3/lib/python3.6/site-packages/numpy/linalg/linalg.py\u001b[0m in \u001b[0;36m_raise_linalgerror_singular\u001b[0;34m(err, flag)\u001b[0m\n\u001b[1;32m     88\u001b[0m \u001b[0;34m\u001b[0m\u001b[0m\n\u001b[1;32m     89\u001b[0m \u001b[0;32mdef\u001b[0m \u001b[0m_raise_linalgerror_singular\u001b[0m\u001b[0;34m(\u001b[0m\u001b[0merr\u001b[0m\u001b[0;34m,\u001b[0m \u001b[0mflag\u001b[0m\u001b[0;34m)\u001b[0m\u001b[0;34m:\u001b[0m\u001b[0;34m\u001b[0m\u001b[0m\n\u001b[0;32m---> 90\u001b[0;31m     \u001b[0;32mraise\u001b[0m \u001b[0mLinAlgError\u001b[0m\u001b[0;34m(\u001b[0m\u001b[0;34m\"Singular matrix\"\u001b[0m\u001b[0;34m)\u001b[0m\u001b[0;34m\u001b[0m\u001b[0m\n\u001b[0m\u001b[1;32m     91\u001b[0m \u001b[0;34m\u001b[0m\u001b[0m\n\u001b[1;32m     92\u001b[0m \u001b[0;32mdef\u001b[0m \u001b[0m_raise_linalgerror_nonposdef\u001b[0m\u001b[0;34m(\u001b[0m\u001b[0merr\u001b[0m\u001b[0;34m,\u001b[0m \u001b[0mflag\u001b[0m\u001b[0;34m)\u001b[0m\u001b[0;34m:\u001b[0m\u001b[0;34m\u001b[0m\u001b[0m\n",
      "\u001b[0;31mLinAlgError\u001b[0m: Singular matrix"
     ]
    }
   ],
   "source": [
    "##4b\n",
    "\n",
    "#====================================================#\n",
    "# YOUR CODE HERE:\n",
    "# Fit the ML parameters of model ii) to training data\n",
    "#====================================================#\n",
    "# modParam2\n",
    "modParam2 = dict()\n",
    "modParam2['pi'] = np.array([1/NumClass] * NumClass)\n",
    "\n",
    "modParam2['mean'] = np.zeros((NumClass, 97))\n",
    "for classIX in range(NumClass):\n",
    "    modParam2['mean'][classIX] = np.mean(trainDataArr[classIX], axis=0)\n",
    "\n",
    "\n",
    "modParam2['cov'] = np.zeros((NumClass, 97, 97))\n",
    "for classIX in range(NumClass):\n",
    "    S = np.zeros((97, 97))\n",
    "    for dataIX in range(NumTrainData):\n",
    "        miu = modParam2['mean'][classIX].reshape(-1, 1)\n",
    "        X = trainDataArr[classIX, dataIX].reshape(-1, 1)\n",
    "        S += np.dot(X-miu, np.transpose(X-miu))\n",
    "    S = S/NumTrainData\n",
    "    modParam2['cov'][classIX] = S\n",
    "    \n",
    "    \n",
    "\n",
    "def mod2_predict(X):\n",
    "    pred_probs = np.zeros(NumClass)\n",
    "    for classIX in range(NumClass):\n",
    "        pi = modParam2['pi'][classIX]\n",
    "        mean = modParam2['mean'][classIX, :].reshape(-1,1)\n",
    "        cov=modParam2['cov'][classIX]\n",
    "        pred_prob = np.log(pi) - 1/2 * np.log(np.linalg.det(cov))\\\n",
    "                    - 1/2 * np.matmul(np.matmul(np.transpose(X-mean), \n",
    "                                                np.linalg.inv(cov)), \n",
    "                                      X-mean)\n",
    "        pred_probs[classIX] = pred_prob[0,0]\n",
    "    return np.argmax(pred_probs)\n",
    "\n",
    "correct_pred_cnt = 0\n",
    "for classIX in range(NumClass):\n",
    "    for dataIX in range(NumTestData):\n",
    "        X = testDataArr[classIX, dataIX].reshape(-1,1)\n",
    "        pred_class = mod2_predict(X)\n",
    "        \n",
    "        if pred_class == classIX:\n",
    "            correct_pred_cnt += 1\n",
    "print(correct_pred_cnt/(NumClass*NumTestData))\n",
    "#====================================================#\n",
    "# END YOUR CODE\n",
    "#====================================================# \n"
   ]
  },
  {
   "cell_type": "markdown",
   "metadata": {},
   "source": [
    "#### Question:\n",
    "Why did the python error occur? What would we need to do to correct this error?"
   ]
  },
  {
   "cell_type": "markdown",
   "metadata": {},
   "source": [
    "#### Your answer:  \n",
    "Because covariance matrix signma is singular, it has zero determinant and no inverse."
   ]
  },
  {
   "cell_type": "markdown",
   "metadata": {},
   "source": [
    "### (c) (8 points) \n",
    "Correct the problem from part (b) by detecting and then removing offending neurons that cause the error. Now, what is the percent of test data points correctly classified? Is it higher or lower than your answer to part (a)? Why might this be?"
   ]
  },
  {
   "cell_type": "code",
   "execution_count": 77,
   "metadata": {},
   "outputs": [
    {
     "name": "stdout",
     "output_type": "stream",
     "text": [
      "0.4409340659340659\n"
     ]
    }
   ],
   "source": [
    "##4c\n",
    "neuronsToRemove = []\n",
    "#====================================================#\n",
    "# YOUR CODE HERE:\n",
    "#   Detect and then remove the offending neurons, so that \n",
    "#   you no longer run into the bug in part (b).\n",
    "#====================================================#\n",
    "for classIX in range(NumClass):\n",
    "    off_neurons_indices = (np.sum(trainDataArr[classIX,:,:].T, 1) == 0).nonzero()\n",
    "    for idx in off_neurons_indices[0].tolist():\n",
    "        if idx not in neuronsToRemove:\n",
    "            neuronsToRemove.append(idx)\n",
    "\n",
    "\n",
    "trainDataArr_new = np.delete(trainDataArr, neuronsToRemove, axis=2)\n",
    "testDataArr_new = np.delete(testDataArr, neuronsToRemove, axis=2)\n",
    "\n",
    "\n",
    "#====================================================#\n",
    "# END YOUR CODE\n",
    "#====================================================# \n",
    "##\n",
    "#====================================================#\n",
    "# YOUR CODE HERE:\n",
    "# Fit the ML parameters,classify the test data and print the accuracy\n",
    "#====================================================#\n",
    "\n",
    "\n",
    "# modParam2\n",
    "modParam2 = dict()\n",
    "modParam2['pi'] = np.array([1/NumClass] * NumClass)\n",
    "\n",
    "modParam2['mean'] = np.zeros((NumClass, trainDataArr_new.shape[2]))\n",
    "for classIX in range(NumClass):\n",
    "    modParam2['mean'][classIX] = np.mean(trainDataArr_new[classIX], axis=0)\n",
    "\n",
    "\n",
    "modParam2['cov'] = np.zeros((NumClass, trainDataArr_new.shape[2], \n",
    "                             trainDataArr_new.shape[2]))\n",
    "for classIX in range(NumClass):\n",
    "    S = np.zeros((trainDataArr_new.shape[2], trainDataArr_new.shape[2]))\n",
    "    for dataIX in range(NumTrainData):\n",
    "        miu = modParam2['mean'][classIX].reshape(-1, 1)\n",
    "        X = trainDataArr_new[classIX, dataIX].reshape(-1, 1)\n",
    "        S += np.dot(X-miu, np.transpose(X-miu))\n",
    "    S = S/NumTrainData\n",
    "    modParam2['cov'][classIX] = S\n",
    "    \n",
    "    \n",
    "\n",
    "def mod2_predict(X):\n",
    "    pred_probs = np.zeros(NumClass)\n",
    "    for classIX in range(NumClass):\n",
    "        pi = modParam2['pi'][classIX]\n",
    "        mean = modParam2['mean'][classIX, :].reshape(-1,1)\n",
    "        cov=modParam2['cov'][classIX]\n",
    "        pred_prob = np.log(pi) - 1/2 * np.log(np.linalg.det(cov))\\\n",
    "                    - 1/2 * np.matmul(np.matmul(np.transpose(X-mean), \n",
    "                                                np.linalg.inv(cov)), X-mean)\n",
    "        pred_probs[classIX] = pred_prob[0,0]\n",
    "    return np.argmax(pred_probs)\n",
    "\n",
    "correct_pred_cnt = 0\n",
    "for classIX in range(NumClass):\n",
    "    for dataIX in range(NumTestData):\n",
    "        X = testDataArr_new[classIX, dataIX].reshape(-1,1)\n",
    "        pred_class = mod2_predict(X)\n",
    "        \n",
    "        if pred_class == classIX:\n",
    "            correct_pred_cnt += 1\n",
    "print(correct_pred_cnt/(NumClass*NumTestData))\n",
    "#====================================================#\n",
    "# END YOUR CODE\n",
    "#====================================================# "
   ]
  },
  {
   "cell_type": "markdown",
   "metadata": {},
   "source": [
    "#### Question:\n",
    "What is the percent of test data points correctly classified? Is it higher or lower than your answer to part (a)? Why might this be?"
   ]
  },
  {
   "cell_type": "markdown",
   "metadata": {},
   "source": [
    "#### Your answer:  \n",
    "0.4409340659340659.\n",
    "It is lower than the answer to part(a). Because we lost training information after removing offending neurons."
   ]
  },
  {
   "cell_type": "markdown",
   "metadata": {},
   "source": [
    "### (d) (8 points) \n",
    "Now we classify using a naive Bayes model. Repeat part (a) for model iii). Keep the convention in part (c), where offending neurons were removed from the anal- ysis."
   ]
  },
  {
   "cell_type": "code",
   "execution_count": 79,
   "metadata": {},
   "outputs": [
    {
     "name": "stdout",
     "output_type": "stream",
     "text": [
      "0.9203296703296703\n"
     ]
    }
   ],
   "source": [
    "##4d\n",
    "#====================================================#\n",
    "# YOUR CODE HERE:\n",
    "# Fit the ML parameters,classify the test data and print the accuracy\n",
    "#====================================================#\n",
    "\n",
    "modParam3 = dict()\n",
    "modParam3['pi'] = np.array([1/NumClass] * NumClass)\n",
    "modParam3['mean'] = np.zeros((NumClass, trainDataArr_new.shape[2]))\n",
    "for classIX in range(NumClass):\n",
    "    modParam3['mean'][classIX] = np.mean(trainDataArr_new[classIX], axis=0)\n",
    "\n",
    "    \n",
    "def mod3_predict(X):\n",
    "    pred_probs = np.zeros(NumClass)\n",
    "    for classIX in range(NumClass):\n",
    "        pi = modParam3['pi'][classIX]\n",
    "        mean = modParam3['mean'][classIX, :].reshape(-1,1)\n",
    "        pred_prob = np.log(pi)\\\n",
    "                    +np.sum(X*np.log(mean)-mean-np.log(scipy.special.factorial(X)), \n",
    "                            0).reshape(1,1)\n",
    "        pred_probs[classIX] = pred_prob[0,0]\n",
    "    return np.argmax(pred_probs)\n",
    "\n",
    "correct_pred_cnt = 0\n",
    "for classIX in range(NumClass):\n",
    "    for dataIX in range(NumTestData):\n",
    "        X = testDataArr_new[classIX, dataIX].reshape(-1,1)\n",
    "        pred_class = mod3_predict(X)\n",
    "        \n",
    "        if pred_class == classIX:\n",
    "            correct_pred_cnt += 1\n",
    "print(correct_pred_cnt/(NumClass*NumTestData))\n",
    "#====================================================#\n",
    "# END YOUR CODE\n",
    "#====================================================# "
   ]
  },
  {
   "cell_type": "markdown",
   "metadata": {},
   "source": [
    "#### Question:\n",
    "what is the percent of test data points correctly classified? "
   ]
  },
  {
   "cell_type": "markdown",
   "metadata": {},
   "source": [
    "#### Your answer: \n",
    "0.9203296703296703"
   ]
  }
 ],
 "metadata": {
  "kernelspec": {
   "display_name": "Python 3",
   "language": "python",
   "name": "python3"
  },
  "language_info": {
   "codemirror_mode": {
    "name": "ipython",
    "version": 3
   },
   "file_extension": ".py",
   "mimetype": "text/x-python",
   "name": "python",
   "nbconvert_exporter": "python",
   "pygments_lexer": "ipython3",
   "version": "3.6.3"
  }
 },
 "nbformat": 4,
 "nbformat_minor": 2
}
