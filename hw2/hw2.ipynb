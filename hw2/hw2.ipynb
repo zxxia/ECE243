{
 "cells": [
  {
   "cell_type": "markdown",
   "metadata": {},
   "source": [
    "# HW2 Coding\n",
    "\n",
    "This workbook will walk you through the plotting problem 2(f) in HW2. It will also provide familiarity with Jupyter Notebook and Python. Please print (to pdf) a completed version of this workbook for submission with HW2.\n",
    "\n",
    "ECE C143A/C243A, Spring Quarter 2018, Prof. J.C. Kao, TAs T. Monsoor, X. Jiang and X. Yang"
   ]
  },
  {
   "cell_type": "markdown",
   "metadata": {},
   "source": [
    "## Import library"
   ]
  },
  {
   "cell_type": "code",
   "execution_count": 39,
   "metadata": {
    "collapsed": true
   },
   "outputs": [],
   "source": [
    "import numpy as np \n",
    "import matplotlib.pyplot as plt"
   ]
  },
  {
   "cell_type": "markdown",
   "metadata": {},
   "source": [
    "## Define the function"
   ]
  },
  {
   "cell_type": "markdown",
   "metadata": {},
   "source": [
    "The function below, ``ptc()`` accepts the average firing rates at three targets and learns the parameters $c_0, c_1,$ and $\\theta$ of the tuning curve.  Please implement this function below.  You may evaluate your execution by running the code under section \"Plot the figure,\" which calculates the tuning parameters using your implementation of ``ptc()``.  The output should appear reasonable."
   ]
  },
  {
   "cell_type": "code",
   "execution_count": 48,
   "metadata": {
    "collapsed": true
   },
   "outputs": [],
   "source": [
    "def ptc(y0 , y1 , y2):\n",
    "    #PTC calculates the tuning curve given average firing rates for certain directions.\n",
    "    \n",
    "    # ================================================================ #\n",
    "    # YOUR CODE HERE:\n",
    "    #  The function takes three inputs corresponding to the average \n",
    "    #  firing rate of a neuron during a reach to 0 degrees (y0), 120 \n",
    "    #  degrees (y1) and 240 degrees (y2). The outputs, c0, c1, and \n",
    "    #  theta0 are the parameters of the tuning curve.\n",
    "    # ================================================================ #\n",
    "    k0 = (y0 + y1 + y2) / 3\n",
    "    k1 = (y1 - y2) / np.sqrt(3)\n",
    "    k2 = (2 * y0 - y1 - y2) / 3\n",
    "    \n",
    "    c0 = k0\n",
    "    theta0_rad = np.arctan2(k1, k2)\n",
    "    c1 = k1 / np.sin(theta0_rad)\n",
    "    theta0 = theta0_rad / np.pi * 180\n",
    "\n",
    "    # ================================================================ #\n",
    "    # END YOUR CODE HERE\n",
    "    # ================================================================ #\n",
    "\n",
    "    return c0,c1,theta0"
   ]
  },
  {
   "cell_type": "markdown",
   "metadata": {},
   "source": [
    "## Plot the figure"
   ]
  },
  {
   "cell_type": "markdown",
   "metadata": {},
   "source": [
    "The following cells execute your PTC function, printing out the values and plotting the tuning curve."
   ]
  },
  {
   "cell_type": "code",
   "execution_count": 49,
   "metadata": {},
   "outputs": [
    {
     "name": "stdout",
     "output_type": "stream",
     "text": [
      "c0 =  35.0\n",
      "c1 =  36.0555127546\n",
      "theta0 =  106.102113752\n"
     ]
    }
   ],
   "source": [
    "c0,c1,theta0=ptc(25,70,10)\n",
    "print('c0 = ', c0)\n",
    "print('c1 = ', c1)\n",
    "print('theta0 = ', theta0)"
   ]
  },
  {
   "cell_type": "code",
   "execution_count": 50,
   "metadata": {},
   "outputs": [
    {
     "data": {
      "image/png": "[encoded data removed]",
      "text/plain": [
       "<matplotlib.figure.Figure at 0x1517391898>"
      ]
     },
     "metadata": {},
     "output_type": "display_data"
    }
   ],
   "source": [
    "theta = np.linspace(0, 2*np.pi, num=80)\n",
    "plt.plot([0,120,240],[25,70,10],'r*',10)\n",
    "plt.plot(theta * 180 / np.pi,c0 + c1 *np.cos(theta - theta0 * np.pi/180),'b',2)\n",
    "plt.xlim ([-10 ,370])\n",
    "plt.ylim ([0,80])\n",
    "plt.xlabel(r'$\\theta$ (degrees)');\n",
    "plt.ylabel(r'$f(\\theta)$');\n",
    "plt.show()"
   ]
  },
  {
   "cell_type": "markdown",
   "metadata": {},
   "source": [
    "# 2(g)"
   ]
  },
  {
   "cell_type": "code",
   "execution_count": 53,
   "metadata": {},
   "outputs": [
    {
     "name": "stdout",
     "output_type": "stream",
     "text": [
      "31.6666666269 24.5373864298 -5.83333304383\n",
      "c0 =  31.6666666269\n",
      "c1 =  25.2212431732\n",
      "theta0 =  103.372825174\n"
     ]
    },
    {
     "data": {
      "image/png": "[encoded data removed]",
      "text/plain": [
       "<matplotlib.figure.Figure at 0x15171d94a8>"
      ]
     },
     "metadata": {},
     "output_type": "display_data"
    }
   ],
   "source": [
    "import scipy.optimize as optimization\n",
    "def freq(x, k0, k1, k2):\n",
    "    return k0 + k1*np.sin(x) + k2*np.cos(x)\n",
    "xdata = np.array([0, 60, 120, 180, 240, 300]) * np.pi/180\n",
    "ydata = np.array([25, 40, 70, 30, 10, 15])\n",
    "# Initial guess.\n",
    "x0    = np.array([0.0, 0.0, 0.0])\n",
    "unknowns, covar = optimization.curve_fit(freq, xdata, ydata, x0)\n",
    "\n",
    "k0 = unknowns[0]\n",
    "k1 = unknowns[1]\n",
    "k2 = unknowns[2]\n",
    "\n",
    "print(k0, k1, k2)\n",
    "\n",
    "c0 = k0\n",
    "theta0_rad = np.arctan2(k1, k2)\n",
    "c1 = k1 / np.sin(theta0_rad)\n",
    "theta0 = theta0_rad / np.pi * 180.0\n",
    "\n",
    "print('c0 = ', c0)\n",
    "print('c1 = ', c1)\n",
    "print('theta0 = ', theta0)\n",
    "\n",
    "theta = np.linspace(0, 2*np.pi, num=80)\n",
    "plt.plot([0,60,120,180,240,300],[25,40,70,30,10,15],'r*',10)\n",
    "plt.plot(theta * 180 / np.pi,c0 + c1 *np.cos(theta - theta0 * np.pi/180),'b',2)\n",
    "plt.xlim ([-10 ,370])\n",
    "plt.ylim ([0,80])\n",
    "plt.xlabel(r'$\\theta$ (degrees)');\n",
    "plt.ylabel(r'$f(\\theta)$');\n",
    "plt.show()"
   ]
  }
 ],
 "metadata": {
  "kernelspec": {
   "display_name": "Python 3",
   "language": "python",
   "name": "python3"
  },
  "language_info": {
   "codemirror_mode": {
    "name": "ipython",
    "version": 3
   },
   "file_extension": ".py",
   "mimetype": "text/x-python",
   "name": "python",
   "nbconvert_exporter": "python",
   "pygments_lexer": "ipython3",
   "version": "3.6.3"
  }
 },
 "nbformat": 4,
 "nbformat_minor": 2
}
