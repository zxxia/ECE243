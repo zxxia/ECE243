{
 "cells": [
  {
   "cell_type": "markdown",
   "metadata": {},
   "source": [
    "## Homework 6, Problem 4 on Kalman filter\n",
    "\n",
    "ECE C143A/C243A, Spring Quarter 2018, Prof. J.C. Kao, TAs T. Monsoor, X. Jiang and X. Yang."
   ]
  },
  {
   "cell_type": "markdown",
   "metadata": {},
   "source": [
    "Total: 35 points"
   ]
  },
  {
   "cell_type": "markdown",
   "metadata": {},
   "source": [
    "In this question, we'll implement a Kalman filter for decoding neural activity.\n",
    "This will specifically be a velocity Kalman filter.\n",
    "We will be working with the same dataset that we used in prior questions.\n",
    "To begin, we'll first learn the dynamical system.\n",
    "Use the first $400$ trials as training data and the remaining $106$ trials as testing data."
   ]
  },
  {
   "cell_type": "code",
   "execution_count": 1,
   "metadata": {},
   "outputs": [],
   "source": [
    "# Importing the necessary packages and the data\n",
    "import numpy as np\n",
    "import matplotlib.pyplot as plt\n",
    "import scipy.special\n",
    "import scipy.io as sio\n",
    "import math\n",
    "import nsp as nsp\n",
    "import pdb\n",
    "# Load matplotlib images inline\n",
    "%matplotlib inline\n",
    "# Reloading any code written in external .py files.\n",
    "%load_ext autoreload\n",
    "%autoreload 2\n",
    "data = sio.loadmat('JR_2015-12-04_truncated2.mat') # load the .mat file.\n",
    "R = data['R'][0,:]"
   ]
  },
  {
   "cell_type": "markdown",
   "metadata": {},
   "source": [
    "### (a) (4 points)  The A-matrix.\n",
    "We will first learn the parameters of a linear dynamical system.\n",
    "We'll begin with the $\\mathbf{A}$ matrix, which should obey laws of physics.\n",
    "Our linear dynamical system state at time $k$ is be:\n",
    "\\begin{eqnarray*}\n",
    "    \\mathbf{x}_k = \\left[ \\begin{array}{c} p_x(k) \\\\ p_y(k) \\\\ v_x(k) \\\\ v_y(k) \\\\ 1 \\end{array} \\right]\n",
    "\\end{eqnarray*}\n",
    "where $p_x(k), p_y(k), v_x(k),$ and $v_y(k)$ are the $x$-position, $y$-position, $x$-velocity, and $y$-velocity, respectively, at time $k$.\n",
    "We'll worry about only deriving an update law for the velocities.\n",
    "\n",
    "Write what the $\\mathbf{A}$ matrix looks like below if if $v_{xx} = 0.7$, $v_{yy} = 0.7$, $v_{yx} = 0$, and $v_{xy} = 0$ and we are using a bin width of $25$ ms.\n",
    "Recall that the units of position are mm and assume that the velocities you are calculating are in m/s or equivalently mm/ms.\n"
   ]
  },
  {
   "cell_type": "markdown",
   "metadata": {},
   "source": [
    "Answer:  \n",
    "\\begin{eqnarray*}\n",
    "\\mathbf{A} = \\left[ \\begin{array}{l l l l l} 1 & 0 & 25 & 0 & 0 \\\\ 0 & 1 & 0 & 25 & 0 \\\\ 0 & 0 & 0.7 & 0 & 0 \\\\ 0 & 0 & 0 & 0.7 & 0 \\\\ 0 & 0 & 0 & 0 & 1\\end{array} \\right]\n",
    "\\end{eqnarray*}\n"
   ]
  },
  {
   "cell_type": "markdown",
   "metadata": {},
   "source": [
    "### (b) (4 points) Fit the A-matrix.\n",
    "Calculate the hand velocities in $25$ ms intervals by using a first order Euler approximation, i.e.,\n",
    "\n",
    "$$v(t) = \\frac{cursorPos[t+25] -cursorPos[t]}{25}$$\n",
    "\n",
    "Find and report the values in the $\\mathbf{A}$ matrix.\n",
    "To be clear, you should only be finding a matrix\n",
    "\\begin{eqnarray*}\n",
    "\\mathbf{A}_s = \\left[ \\begin{array}{cc} v_{xx} & v_{xy} \\\\ v_{yx} & v_{yy} \\end{array} \\right]\n",
    "\\end{eqnarray*}\n",
    "and imputing those values into an $\\mathbf{A}$ matrix that obeys physics."
   ]
  },
  {
   "cell_type": "code",
   "execution_count": 5,
   "metadata": {},
   "outputs": [
    {
     "name": "stdout",
     "output_type": "stream",
     "text": [
      "[[ 0.77976907 -0.00741686]\n",
      " [ 0.0096132   0.78079831]]\n",
      "[[ 1.00000000e+00  0.00000000e+00  2.50000000e+01  0.00000000e+00\n",
      "   0.00000000e+00]\n",
      " [ 0.00000000e+00  1.00000000e+00  0.00000000e+00  2.50000000e+01\n",
      "   0.00000000e+00]\n",
      " [ 0.00000000e+00  0.00000000e+00  7.79769072e-01 -7.41686029e-03\n",
      "   0.00000000e+00]\n",
      " [ 0.00000000e+00  0.00000000e+00  9.61320498e-03  7.80798314e-01\n",
      "   0.00000000e+00]\n",
      " [ 0.00000000e+00  0.00000000e+00  0.00000000e+00  0.00000000e+00\n",
      "   1.00000000e+00]]\n"
     ]
    }
   ],
   "source": [
    "#====================================================#\n",
    "# YOUR CODE HERE:\n",
    "#   Fit and report the 5x5 matrix A.\n",
    "#====================================================#\n",
    "A = np.array([[1, 0, 25, 0, 0],\n",
    "              [0, 1, 0, 25, 0],\n",
    "              [0, 0, 0.7, 0, 0],\n",
    "              [0, 0, 0, 0.7, 0],\n",
    "              [0, 0, 0, 0, 1]])\n",
    "\n",
    "dt = 25\n",
    "train_num = 400\n",
    "X = scipy.sparse.hstack(R[0:train_num]['cursorPos'])\n",
    "X = scipy.sparse.csc_matrix(X)\n",
    "X_bin = nsp.bin(X, dt,'first')\n",
    "X_bin = np.diff(X_bin[0:2,:])/dt\n",
    "\n",
    "\n",
    "v_prev = X_bin[:,:X_bin.shape[1]-1]\n",
    "v_next = X_bin[:,1:]\n",
    "v_prev = v_prev.astype(float)\n",
    "v_next = v_next.astype(float)\n",
    "A_s = np.matmul(v_next, scipy.linalg.pinv(v_prev))\n",
    "print(A_s)\n",
    "A[2:4, 2:4] = A_s\n",
    "print(A)\n",
    "#====================================================#\n",
    "# END YOUR CODE\n",
    "#====================================================#  "
   ]
  },
  {
   "cell_type": "markdown",
   "metadata": {},
   "source": [
    "Answer:  \n",
    "\\begin{eqnarray*}\n",
    "\\mathbf{A} = \\left[ \\begin{array}{l l l l l} 1 & 0 & 25 & 0 & 0 \\\\ 0 & 1 & 0 & 25 & 0 \\\\ 0 & 0 & 0.779769072 & -0.00741686029 & 0 \\\\ 0 & 0 & 0.00961320498 & 0.780798314 & 0 \\\\ 0 & 0 & 0 & 0 & 1\\end{array} \\right]\n",
    "\\end{eqnarray*}"
   ]
  },
  {
   "cell_type": "markdown",
   "metadata": {},
   "source": [
    "### (c) (4 points) Fit the C matrix.\n",
    "\n",
    "For this question, we will only be using `R[i]['spikeRaster']` for the neural data (i.e., ignore `R[i].['spikeRaster2']`).\n",
    "Calculate the $\\mathbf{C}$ matrix by only finding the coefficients mapping velocity (and the constant 1) to the neural data.\n",
    "(We do not calculate the coefficients corresponding to the mapping of position to neural data, since we are only decoding velocity.\n",
    "In a position-velocity Kalman filter that decodes both position and velocity, we would fit these coefficients.)\n",
    "Concretely, find a matrix $\\mathbf{C}_s$, which is $96 \\times 3$ and is the least-squares optimal mapping from:\n",
    "\\begin{eqnarray*}\n",
    "\\mathbf{y}_k = \\mathbf{C}_s \\left[ \\begin{array}{c} v^x_k \\\\ v^y_k \\\\ 1 \\end{array} \\right]\n",
    "\\end{eqnarray*}\n",
    "Then, impute the values of $\\mathbf{C_s}$ into the matrix $\\mathbf{C}$, which initialized to be a matrix of zeros of size $96 \\times 5$.  \n",
    "Thus, the first two columns of $\\mathbf{C}$ should be all zeros, but the last three columns of $\\mathbf{C}$ will be populated with the values in $\\mathbf{C}_s$.\n",
    "Bin the neural data in non-overlapping $25$ ms bins.\n",
    "Find the $\\mathbf{C}$ matrix and report the value of `np.sum(C,0)`.\n"
   ]
  },
  {
   "cell_type": "code",
   "execution_count": 7,
   "metadata": {},
   "outputs": [
    {
     "name": "stdout",
     "output_type": "stream",
     "text": [
      "[ 0.          0.         -4.49938145  1.70531105 40.19265294]\n"
     ]
    }
   ],
   "source": [
    "## Part c\n",
    "#====================================================#\n",
    "# YOUR CODE HERE:\n",
    "#   Fit the C matrix, and report np.sum(C, 0)\n",
    "#====================================================#\n",
    "dt = 25\n",
    "train_num = 400\n",
    "Y = scipy.sparse.hstack(R[0:train_num]['spikeRaster'])\n",
    "X = scipy.sparse.hstack(R[0:train_num]['cursorPos'])\n",
    "X = scipy.sparse.csc_matrix(X)\n",
    "Y_bin = nsp.bin(Y, dt,'sum')\n",
    "X_bin = nsp.bin(X, dt,'first')\n",
    "X_bin = np.diff(X_bin[0:2,:])/dt\n",
    "X_bin = np.vstack((X_bin, np.ones(np.size(X_bin,1))))\n",
    "Y_bin = Y_bin.astype(float)\n",
    "X_bin = X_bin.astype(float)\n",
    "C_s = np.matmul(Y_bin, scipy.linalg.pinv(X_bin))\n",
    "C = np.zeros((96,5))\n",
    "C[:,2:] = C_s\n",
    "print(np.sum(C,0))\n",
    "#====================================================#\n",
    "# END YOUR CODE\n",
    "#====================================================#  "
   ]
  },
  {
   "cell_type": "markdown",
   "metadata": {},
   "source": [
    "Answer:  \n",
    "np.sum(C,0) = [ 0. 0. -4.49938145 1.70531105 40.19265294 ]"
   ]
  },
  {
   "cell_type": "markdown",
   "metadata": {},
   "source": [
    "### (d) (4 points) Fit the W matrix.\n",
    "\n",
    "Find the $\\mathbf{W}$ using the $\\mathbf{A}$ matrix calculated in part (b).\n",
    "We will only want to calculate an uncertainty over the velocity, and not on the positions.\n",
    "Thus, you will perform the covariance calculation over the velocities, resulting in a $2 \\times 2$ matrix $\\mathbf{W}_s$.  \n",
    "You will insert these values into the correct location in the $\\mathbf{W}$ matrix, which is everywhere else $0$.\n",
    "Report the $\\mathbf{W}$ matrix."
   ]
  },
  {
   "cell_type": "code",
   "execution_count": 8,
   "metadata": {},
   "outputs": [
    {
     "name": "stdout",
     "output_type": "stream",
     "text": [
      "[[ 0.01151216 -0.00079399]\n",
      " [-0.00079399  0.01212474]]\n",
      "[[ 0.          0.          0.          0.          0.        ]\n",
      " [ 0.          0.          0.          0.          0.        ]\n",
      " [ 0.          0.          0.01151216 -0.00079399  0.        ]\n",
      " [ 0.          0.         -0.00079399  0.01212474  0.        ]\n",
      " [ 0.          0.          0.          0.          0.        ]]\n"
     ]
    }
   ],
   "source": [
    "## Part d\n",
    "#====================================================#\n",
    "# YOUR CODE HERE:\n",
    "#   Fit and report the W matrix.\n",
    "#====================================================#\n",
    "diff_a = (v_next - np.dot(A_s, v_prev))\n",
    "W_s = np.matmul(diff_a, diff_a.T)/ (X_bin.shape[1]-1)\n",
    "print(W_s)\n",
    "W = np.zeros((5,5))\n",
    "W[2:4,2:4] = W_s\n",
    "print(W)\n",
    "\n",
    "#====================================================#\n",
    "# END YOUR CODE\n",
    "#====================================================#  "
   ]
  },
  {
   "cell_type": "markdown",
   "metadata": {},
   "source": [
    "Answer:  \n",
    "\\begin{eqnarray*}\n",
    "\\mathbf{W} = \\left[ \\begin{array}{l l l l l} 0 & 0 & 0 & 0 & 0 \\\\ 0 & 0 & 0 & 0 & 0 \\\\ 0 & 0 & 0.01151216 & -0.00079399 & 0 \\\\ 0 & 0 & -0.00079399 & 0.01212474 & 0 \\\\ 0 & 0 & 0 & 0 & 0\\end{array} \\right]\n",
    "\\end{eqnarray*}"
   ]
  },
  {
   "cell_type": "markdown",
   "metadata": {},
   "source": [
    "### (e) (4 points) Fit the Q matrix.\n",
    "Find the $\\mathbf{Q}$ matrix using the $\\mathbf{C}$ matrix calculated in part (c).\n",
    "Submit a plot of Q using `plt.imshow(Q)`.\n",
    "        \n"
   ]
  },
  {
   "cell_type": "code",
   "execution_count": 9,
   "metadata": {},
   "outputs": [
    {
     "data": {
      "image/png": "[encoded data removed]",
      "text/plain": [
       "<Figure size 432x288 with 2 Axes>"
      ]
     },
     "metadata": {},
     "output_type": "display_data"
    }
   ],
   "source": [
    "## Part e\n",
    "#====================================================#\n",
    "# YOUR CODE HERE:\n",
    "#   Fit the Q matrix, and visuailze it using plt.imshow(Q)\n",
    "#====================================================#\n",
    "diff_c = (Y_bin - np.dot(C_s, X_bin))\n",
    "Q = np.matmul(diff_c, diff_c.T)/X_bin.shape[1]\n",
    "plt.imshow(Q)\n",
    "plt.colorbar()\n",
    "plt.show()\n",
    "#====================================================#\n",
    "# END YOUR CODE\n",
    "#====================================================#  "
   ]
  },
  {
   "cell_type": "markdown",
   "metadata": {},
   "source": [
    "Answer:\n",
    "\n"
   ]
  },
  {
   "cell_type": "markdown",
   "metadata": {},
   "source": [
    "### (f) (9 points) Write the KF recursion.\n",
    "Write a function, `KalmanSteadyState.m` that accepts as input the $\\mathbf{A, W, C}$, and $\\mathbf{Q}$ matrices and returns $\\Sigma_\\infty$, $\\mathbf{K}_\\infty$, $\\mathbf{M}_1$ and $\\mathbf{M}_2$.\n",
    "We are going to use an assumption made in Gilja*, Nuyujukian* et al., Nature Neuroscience 2012, which is that the monkey sees the cursor whenever it is updated and therefore has no uncertainty in its position.\n",
    "Thus, in your recursion, make the following modification in the recursion: \n",
    "If `S` denotes $\\Sigma_{k|1:k-1}$, then immediately after calculating `S`, set:\n",
    "\\begin{eqnarray*}\n",
    "\\mathbf{S[0:2,:] = 0} \\\\\n",
    "\\mathbf{S[:,0:2] = 0}\n",
    "\\end{eqnarray*}\n",
    "This removes all uncertainty in the cursor's position.\n",
    "Use a while loop with the following convergence criterion:`np.max(np.abs(it_d)) > tol`\n",
    "where `it_d` measures the difference between M1 and M2's entries' between current value and updated value after iteration.\n",
    "and $\\mathbf{tol = 10^{-13}}$.\n",
    "Submit the values of the $\\mathbf{M1}$ matrix and the value of `np.sum(M2,1)`.  "
   ]
  },
  {
   "cell_type": "code",
   "execution_count": 17,
   "metadata": {},
   "outputs": [],
   "source": [
    "def KalmanSteadyState(A, W, C, Q):\n",
    "\n",
    "    S_p = np.zeros((5,5)) # previous state estimate cov\n",
    "    S_c = np.zeros((5,5)) # current state estimate cov\n",
    "    M1_p = np.zeros((5,5)) # previous M1\n",
    "    M1_c = np.ones((5,5)) # current M1\n",
    "    M2_p = np.zeros((5,96)) # previous M2\n",
    "    M2_c = np.ones((5,96)) # current M2\n",
    "    tol = math.pow(10, -13)\n",
    "    count = 0\n",
    "    \n",
    "    # Stopping criterion.\n",
    "    it_d = np.hstack((M1_c.flatten() - M1_p.flatten(),  M2_c.flatten()-M2_p.flatten()))\n",
    "\n",
    "    while(np.max(np.abs(it_d)) > tol):\n",
    "        \n",
    "        #====================================================#\n",
    "        # YOUR CODE HERE:\n",
    "        #   Implement the Kalman filter recursion.\n",
    "        #====================================================#\n",
    "        K = np.dot(np.dot(S_c, C.T),\n",
    "                   np.linalg.inv(np.dot(np.dot(C, S_c), C.T) + Q))\n",
    "        M1_c = A - np.dot(np.dot(K, C), A)\n",
    "        M2_c = K\n",
    "        S_c = np.dot(np.dot(A, S_p), A.T) \\\n",
    "        + W\\\n",
    "        - np.dot(np.dot(np.dot(np.dot(np.dot(np.dot(A, S_p), C.T), \n",
    "                                      np.linalg.inv(np.dot(np.dot(C, S_p), \n",
    "                                                           C.T) + Q)), C), \n",
    "                        S_p), A.T)\n",
    "        S_c[0:2,:]=0\n",
    "        S_c[:,0:2]=0\n",
    "\n",
    "        \n",
    "        #====================================================#\n",
    "        # END YOUR CODE\n",
    "        #====================================================#  \n",
    "        \n",
    "        count = count + 1\n",
    "        it_d = np.hstack((M1_c.flatten() - M1_p.flatten(),  M2_c.flatten()-M2_p.flatten()))\n",
    "        S_p = S_c\n",
    "        M1_p = M1_c\n",
    "        M2_p = M2_c\n",
    "    S_st = S_c # steady state covariance\n",
    "    K_st = M2_c # steady state Kalman gain\n",
    "    \n",
    "    return (M1_c,M2_c,S_st,K_st)"
   ]
  },
  {
   "cell_type": "markdown",
   "metadata": {},
   "source": [
    "After writing this function, run the following code to calculate the steady state parameters."
   ]
  },
  {
   "cell_type": "code",
   "execution_count": 18,
   "metadata": {},
   "outputs": [
    {
     "name": "stdout",
     "output_type": "stream",
     "text": [
      "[[ 1.00000000e+00  0.00000000e+00  2.50000000e+01  0.00000000e+00\n",
      "   0.00000000e+00]\n",
      " [ 0.00000000e+00  1.00000000e+00  0.00000000e+00  2.50000000e+01\n",
      "   0.00000000e+00]\n",
      " [ 0.00000000e+00  0.00000000e+00  6.77629013e-01 -2.53787898e-02\n",
      "   1.23314734e-02]\n",
      " [ 0.00000000e+00  0.00000000e+00 -1.54426706e-02  6.27592684e-01\n",
      "  -5.85754563e-02]\n",
      " [ 0.00000000e+00  0.00000000e+00  0.00000000e+00  0.00000000e+00\n",
      "   1.00000000e+00]]\n",
      "[ 0.          0.         -0.05834287  0.12670082  0.        ]\n"
     ]
    }
   ],
   "source": [
    "m1,m2,_,_ = KalmanSteadyState(A, W, C, Q)\n",
    "\n",
    "print(m1)\n",
    "print(np.sum(m2,1))"
   ]
  },
  {
   "cell_type": "markdown",
   "metadata": {},
   "source": [
    "Answer:  \n",
    "\\begin{eqnarray*}\n",
    "\\mathbf{M1} = \\left[ \\begin{array}{l l l l l} 1 & 0 & 2.5 & 0 & 0 \\\\ 0 & 1 & 0 & 2.5 & 0 \\\\ 0 & 0 & 0.677629013 & -0.0253787898 & 0.0123314734 \\\\ 0 & 0 & -0.0154426706 & 0.627592684 & -0.0585754563 \\\\ 0 & 0 & 0 & 0 & 1\\end{array} \\right]\n",
    "\\end{eqnarray*}\n",
    "\n",
    "\\begin{eqnarray*}\n",
    "\\mathbf{np.sum(M2,1)} = \\left[ \\begin{array}{l l l l l} 0 & 0 & -0.05834287 & 0.12670082 & 0\\end{array} \\right]\n",
    "\\end{eqnarray*}"
   ]
  },
  {
   "cell_type": "markdown",
   "metadata": {},
   "source": [
    "### (g) (6 points)  Decode using the KF.\n",
    "Using the $\\mathbf{M}_1$ and $\\mathbf{M}_2$ matrix found in part (f), decode the neural activity for each trial in the testing data.\n",
    "\t\tInitialize $\\mathbf{x}_0$ on each trial to be the starting position on the trial, and a velocity of $\\mathbf{0}$.\n",
    "\t\tOn one plot, show the true hand positions.\n",
    "\t\tOn a separate plot, show the positions decoded by the Kalman filter.\n",
    "       \n"
   ]
  },
  {
   "cell_type": "code",
   "execution_count": 20,
   "metadata": {},
   "outputs": [
    {
     "data": {
      "image/png": "[encoded data removed]",
      "text/plain": [
       "<Figure size 432x288 with 1 Axes>"
      ]
     },
     "metadata": {},
     "output_type": "display_data"
    },
    {
     "data": {
      "image/png": "[encoded data removed]",
      "text/plain": [
       "<Figure size 432x288 with 1 Axes>"
      ]
     },
     "metadata": {},
     "output_type": "display_data"
    }
   ],
   "source": [
    "#====================================================#\n",
    "# YOUR CODE HERE:\n",
    "#   Decode the activity using a Kalman filter and\n",
    "#   plot the decoded positions.\n",
    "#====================================================#\n",
    "plt.figure(1)\n",
    "# true hand positions plot\n",
    "train_num = 400\n",
    "test_num = 106\n",
    "cursor_pos_all = np.hstack(R[train_num : train_num + test_num]['cursorPos'])\n",
    "plt.plot(cursor_pos_all[0,:], cursor_pos_all[1,:], 'r.')\n",
    "plt.show\n",
    "plt.figure(2)\n",
    "# decoded hand positions plot\n",
    "# x_k = M1 * x_k-1 + M2 * y_k\n",
    "dt = 25\n",
    "for i in range(train_num, train_num + test_num):\n",
    "    Y = R[i]['spikeRaster']\n",
    "    Y_bin = nsp.bin(Y, dt,'sum')\n",
    "    Y_bin_size = Y_bin.shape[1]\n",
    "    cursor_pos_start = R[i]['cursorPos'][0:2, 0]\n",
    "    x_0 = np.array([cursor_pos_start[0],\n",
    "                cursor_pos_start[1], 0, 0, 1])\n",
    "    i_positions = []\n",
    "    for j in range(Y_bin_size):\n",
    "        x_j = np.dot(m1, x_0) + np.dot(m2, Y_bin[:,j])\n",
    "        i_positions.append(x_j)\n",
    "        x_0 = x_j\n",
    "    plt.plot(np.array(i_positions)[:,0], np.array(i_positions)[:,1], 'r.')\n",
    "plt.show()\n",
    "#====================================================#\n",
    "# END YOUR CODE\n",
    "#====================================================#  "
   ]
  },
  {
   "cell_type": "markdown",
   "metadata": {},
   "source": [
    "Answer:\n"
   ]
  }
 ],
 "metadata": {
  "kernelspec": {
   "display_name": "Python 3",
   "language": "python",
   "name": "python3"
  },
  "language_info": {
   "codemirror_mode": {
    "name": "ipython",
    "version": 3
   },
   "file_extension": ".py",
   "mimetype": "text/x-python",
   "name": "python",
   "nbconvert_exporter": "python",
   "pygments_lexer": "ipython3",
   "version": "3.6.5"
  }
 },
 "nbformat": 4,
 "nbformat_minor": 2
}
